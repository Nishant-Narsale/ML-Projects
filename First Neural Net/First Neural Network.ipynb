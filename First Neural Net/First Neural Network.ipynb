{
 "cells": [
  {
   "cell_type": "code",
   "execution_count": 24,
   "id": "1d27cb68",
   "metadata": {},
   "outputs": [],
   "source": [
    "## for reference https://www.freecodecamp.org/news/how-to-build-your-first-neural-network-to-predict-house-prices-with-keras-f8db83049159/"
   ]
  },
  {
   "cell_type": "code",
   "execution_count": 2,
   "id": "e5f7772e",
   "metadata": {},
   "outputs": [],
   "source": [
    "import pandas as pd"
   ]
  },
  {
   "cell_type": "code",
   "execution_count": 4,
   "id": "8cf7f74b",
   "metadata": {},
   "outputs": [],
   "source": [
    "df = pd.read_csv('housepricedata.csv')"
   ]
  },
  {
   "cell_type": "code",
   "execution_count": 16,
   "id": "9ae5594a",
   "metadata": {},
   "outputs": [
    {
     "data": {
      "text/html": [
       "<div>\n",
       "<style scoped>\n",
       "    .dataframe tbody tr th:only-of-type {\n",
       "        vertical-align: middle;\n",
       "    }\n",
       "\n",
       "    .dataframe tbody tr th {\n",
       "        vertical-align: top;\n",
       "    }\n",
       "\n",
       "    .dataframe thead th {\n",
       "        text-align: right;\n",
       "    }\n",
       "</style>\n",
       "<table border=\"1\" class=\"dataframe\">\n",
       "  <thead>\n",
       "    <tr style=\"text-align: right;\">\n",
       "      <th></th>\n",
       "      <th>LotArea</th>\n",
       "      <th>OverallQual</th>\n",
       "      <th>OverallCond</th>\n",
       "      <th>TotalBsmtSF</th>\n",
       "      <th>FullBath</th>\n",
       "      <th>HalfBath</th>\n",
       "      <th>BedroomAbvGr</th>\n",
       "      <th>TotRmsAbvGrd</th>\n",
       "      <th>Fireplaces</th>\n",
       "      <th>GarageArea</th>\n",
       "      <th>AboveMedianPrice</th>\n",
       "    </tr>\n",
       "  </thead>\n",
       "  <tbody>\n",
       "    <tr>\n",
       "      <th>0</th>\n",
       "      <td>8450</td>\n",
       "      <td>7</td>\n",
       "      <td>5</td>\n",
       "      <td>856</td>\n",
       "      <td>2</td>\n",
       "      <td>1</td>\n",
       "      <td>3</td>\n",
       "      <td>8</td>\n",
       "      <td>0</td>\n",
       "      <td>548</td>\n",
       "      <td>1</td>\n",
       "    </tr>\n",
       "    <tr>\n",
       "      <th>1</th>\n",
       "      <td>9600</td>\n",
       "      <td>6</td>\n",
       "      <td>8</td>\n",
       "      <td>1262</td>\n",
       "      <td>2</td>\n",
       "      <td>0</td>\n",
       "      <td>3</td>\n",
       "      <td>6</td>\n",
       "      <td>1</td>\n",
       "      <td>460</td>\n",
       "      <td>1</td>\n",
       "    </tr>\n",
       "    <tr>\n",
       "      <th>2</th>\n",
       "      <td>11250</td>\n",
       "      <td>7</td>\n",
       "      <td>5</td>\n",
       "      <td>920</td>\n",
       "      <td>2</td>\n",
       "      <td>1</td>\n",
       "      <td>3</td>\n",
       "      <td>6</td>\n",
       "      <td>1</td>\n",
       "      <td>608</td>\n",
       "      <td>1</td>\n",
       "    </tr>\n",
       "    <tr>\n",
       "      <th>3</th>\n",
       "      <td>9550</td>\n",
       "      <td>7</td>\n",
       "      <td>5</td>\n",
       "      <td>756</td>\n",
       "      <td>1</td>\n",
       "      <td>0</td>\n",
       "      <td>3</td>\n",
       "      <td>7</td>\n",
       "      <td>1</td>\n",
       "      <td>642</td>\n",
       "      <td>0</td>\n",
       "    </tr>\n",
       "    <tr>\n",
       "      <th>4</th>\n",
       "      <td>14260</td>\n",
       "      <td>8</td>\n",
       "      <td>5</td>\n",
       "      <td>1145</td>\n",
       "      <td>2</td>\n",
       "      <td>1</td>\n",
       "      <td>4</td>\n",
       "      <td>9</td>\n",
       "      <td>1</td>\n",
       "      <td>836</td>\n",
       "      <td>1</td>\n",
       "    </tr>\n",
       "    <tr>\n",
       "      <th>...</th>\n",
       "      <td>...</td>\n",
       "      <td>...</td>\n",
       "      <td>...</td>\n",
       "      <td>...</td>\n",
       "      <td>...</td>\n",
       "      <td>...</td>\n",
       "      <td>...</td>\n",
       "      <td>...</td>\n",
       "      <td>...</td>\n",
       "      <td>...</td>\n",
       "      <td>...</td>\n",
       "    </tr>\n",
       "    <tr>\n",
       "      <th>1455</th>\n",
       "      <td>7917</td>\n",
       "      <td>6</td>\n",
       "      <td>5</td>\n",
       "      <td>953</td>\n",
       "      <td>2</td>\n",
       "      <td>1</td>\n",
       "      <td>3</td>\n",
       "      <td>7</td>\n",
       "      <td>1</td>\n",
       "      <td>460</td>\n",
       "      <td>1</td>\n",
       "    </tr>\n",
       "    <tr>\n",
       "      <th>1456</th>\n",
       "      <td>13175</td>\n",
       "      <td>6</td>\n",
       "      <td>6</td>\n",
       "      <td>1542</td>\n",
       "      <td>2</td>\n",
       "      <td>0</td>\n",
       "      <td>3</td>\n",
       "      <td>7</td>\n",
       "      <td>2</td>\n",
       "      <td>500</td>\n",
       "      <td>1</td>\n",
       "    </tr>\n",
       "    <tr>\n",
       "      <th>1457</th>\n",
       "      <td>9042</td>\n",
       "      <td>7</td>\n",
       "      <td>9</td>\n",
       "      <td>1152</td>\n",
       "      <td>2</td>\n",
       "      <td>0</td>\n",
       "      <td>4</td>\n",
       "      <td>9</td>\n",
       "      <td>2</td>\n",
       "      <td>252</td>\n",
       "      <td>1</td>\n",
       "    </tr>\n",
       "    <tr>\n",
       "      <th>1458</th>\n",
       "      <td>9717</td>\n",
       "      <td>5</td>\n",
       "      <td>6</td>\n",
       "      <td>1078</td>\n",
       "      <td>1</td>\n",
       "      <td>0</td>\n",
       "      <td>2</td>\n",
       "      <td>5</td>\n",
       "      <td>0</td>\n",
       "      <td>240</td>\n",
       "      <td>0</td>\n",
       "    </tr>\n",
       "    <tr>\n",
       "      <th>1459</th>\n",
       "      <td>9937</td>\n",
       "      <td>5</td>\n",
       "      <td>6</td>\n",
       "      <td>1256</td>\n",
       "      <td>1</td>\n",
       "      <td>1</td>\n",
       "      <td>3</td>\n",
       "      <td>6</td>\n",
       "      <td>0</td>\n",
       "      <td>276</td>\n",
       "      <td>0</td>\n",
       "    </tr>\n",
       "  </tbody>\n",
       "</table>\n",
       "<p>1460 rows × 11 columns</p>\n",
       "</div>"
      ],
      "text/plain": [
       "      LotArea  OverallQual  OverallCond  TotalBsmtSF  FullBath  HalfBath  \\\n",
       "0        8450            7            5          856         2         1   \n",
       "1        9600            6            8         1262         2         0   \n",
       "2       11250            7            5          920         2         1   \n",
       "3        9550            7            5          756         1         0   \n",
       "4       14260            8            5         1145         2         1   \n",
       "...       ...          ...          ...          ...       ...       ...   \n",
       "1455     7917            6            5          953         2         1   \n",
       "1456    13175            6            6         1542         2         0   \n",
       "1457     9042            7            9         1152         2         0   \n",
       "1458     9717            5            6         1078         1         0   \n",
       "1459     9937            5            6         1256         1         1   \n",
       "\n",
       "      BedroomAbvGr  TotRmsAbvGrd  Fireplaces  GarageArea  AboveMedianPrice  \n",
       "0                3             8           0         548                 1  \n",
       "1                3             6           1         460                 1  \n",
       "2                3             6           1         608                 1  \n",
       "3                3             7           1         642                 0  \n",
       "4                4             9           1         836                 1  \n",
       "...            ...           ...         ...         ...               ...  \n",
       "1455             3             7           1         460                 1  \n",
       "1456             3             7           2         500                 1  \n",
       "1457             4             9           2         252                 1  \n",
       "1458             2             5           0         240                 0  \n",
       "1459             3             6           0         276                 0  \n",
       "\n",
       "[1460 rows x 11 columns]"
      ]
     },
     "execution_count": 16,
     "metadata": {},
     "output_type": "execute_result"
    }
   ],
   "source": [
    "df"
   ]
  },
  {
   "cell_type": "code",
   "execution_count": 14,
   "id": "c9ac911d",
   "metadata": {},
   "outputs": [
    {
     "data": {
      "text/plain": [
       "0    732\n",
       "1    728\n",
       "Name: AboveMedianPrice, dtype: int64"
      ]
     },
     "execution_count": 14,
     "metadata": {},
     "output_type": "execute_result"
    }
   ],
   "source": [
    "df[\"AboveMedianPrice\"].value_counts()"
   ]
  },
  {
   "cell_type": "code",
   "execution_count": 19,
   "id": "449c5285",
   "metadata": {},
   "outputs": [
    {
     "data": {
      "text/plain": [
       "array([[ 8450,     7,     5, ...,     0,   548,     1],\n",
       "       [ 9600,     6,     8, ...,     1,   460,     1],\n",
       "       [11250,     7,     5, ...,     1,   608,     1],\n",
       "       ...,\n",
       "       [ 9042,     7,     9, ...,     2,   252,     1],\n",
       "       [ 9717,     5,     6, ...,     0,   240,     0],\n",
       "       [ 9937,     5,     6, ...,     0,   276,     0]], dtype=int64)"
      ]
     },
     "execution_count": 19,
     "metadata": {},
     "output_type": "execute_result"
    }
   ],
   "source": [
    "dataset = df.values\n",
    "dataset"
   ]
  },
  {
   "cell_type": "code",
   "execution_count": 20,
   "id": "1039a46e",
   "metadata": {},
   "outputs": [
    {
     "data": {
      "text/plain": [
       "array([[ 8450,     7,     5, ...,     8,     0,   548],\n",
       "       [ 9600,     6,     8, ...,     6,     1,   460],\n",
       "       [11250,     7,     5, ...,     6,     1,   608],\n",
       "       ...,\n",
       "       [ 9042,     7,     9, ...,     9,     2,   252],\n",
       "       [ 9717,     5,     6, ...,     5,     0,   240],\n",
       "       [ 9937,     5,     6, ...,     6,     0,   276]], dtype=int64)"
      ]
     },
     "execution_count": 20,
     "metadata": {},
     "output_type": "execute_result"
    }
   ],
   "source": [
    "X = dataset[:,:10]\n",
    "X"
   ]
  },
  {
   "cell_type": "code",
   "execution_count": 22,
   "id": "4e9a21b9",
   "metadata": {},
   "outputs": [
    {
     "data": {
      "text/plain": [
       "array([1, 1, 1, ..., 1, 0, 0], dtype=int64)"
      ]
     },
     "execution_count": 22,
     "metadata": {},
     "output_type": "execute_result"
    }
   ],
   "source": [
    "y = dataset[:,-1]\n",
    "y"
   ]
  },
  {
   "cell_type": "code",
   "execution_count": 23,
   "id": "14a24ac6",
   "metadata": {},
   "outputs": [],
   "source": [
    "from sklearn import preprocessing"
   ]
  },
  {
   "cell_type": "code",
   "execution_count": 25,
   "id": "47815351",
   "metadata": {},
   "outputs": [
    {
     "data": {
      "text/plain": [
       "array([[0.0334198 , 0.66666667, 0.5       , ..., 0.5       , 0.        ,\n",
       "        0.3864598 ],\n",
       "       [0.03879502, 0.55555556, 0.875     , ..., 0.33333333, 0.33333333,\n",
       "        0.32440056],\n",
       "       [0.04650728, 0.66666667, 0.5       , ..., 0.33333333, 0.33333333,\n",
       "        0.42877292],\n",
       "       ...,\n",
       "       [0.03618687, 0.66666667, 1.        , ..., 0.58333333, 0.66666667,\n",
       "        0.17771509],\n",
       "       [0.03934189, 0.44444444, 0.625     , ..., 0.25      , 0.        ,\n",
       "        0.16925247],\n",
       "       [0.04037019, 0.44444444, 0.625     , ..., 0.33333333, 0.        ,\n",
       "        0.19464034]])"
      ]
     },
     "execution_count": 25,
     "metadata": {},
     "output_type": "execute_result"
    }
   ],
   "source": [
    "min_max_scalar = preprocessing.MinMaxScaler()\n",
    "X_scale = min_max_scalar.fit_transform(X)\n",
    "X_scale"
   ]
  },
  {
   "cell_type": "code",
   "execution_count": 26,
   "id": "4e9430c5",
   "metadata": {},
   "outputs": [],
   "source": [
    "from sklearn.model_selection import train_test_split"
   ]
  },
  {
   "cell_type": "code",
   "execution_count": 28,
   "id": "a013396a",
   "metadata": {},
   "outputs": [],
   "source": [
    "# for traning, testing and validating\n",
    "X_train, X_val_and_test, y_train, y_val_and_test = train_test_split(X_scale, y, test_size=0.3)"
   ]
  },
  {
   "cell_type": "code",
   "execution_count": 30,
   "id": "61bd1fd9",
   "metadata": {},
   "outputs": [],
   "source": [
    "# different dataset for testing and validating\n",
    "X_val, X_test, y_val, y_test = train_test_split(X_val_and_test, y_val_and_test, test_size=0.5)"
   ]
  },
  {
   "cell_type": "code",
   "execution_count": 33,
   "id": "c478d944",
   "metadata": {},
   "outputs": [
    {
     "name": "stdout",
     "output_type": "stream",
     "text": [
      "(1022, 10) (219, 10) (219, 10) (1022,) (219,) (219,)\n"
     ]
    }
   ],
   "source": [
    "# X_train (10 input features, 70% of full dataset)\n",
    "# X_val (10 input features, 15% of full dataset)\n",
    "# X_test (10 input features, 15% of full dataset)\n",
    "# Y_train (1 label, 70% of full dataset)\n",
    "# Y_val (1 label, 15% of full dataset)\n",
    "# Y_test (1 label, 15% of full dataset)\n",
    "print(X_train.shape, X_val.shape, X_test.shape, y_train.shape, y_val.shape, y_test.shape)"
   ]
  },
  {
   "cell_type": "code",
   "execution_count": 34,
   "id": "1ded5108",
   "metadata": {},
   "outputs": [],
   "source": [
    "from keras.models import Sequential\n",
    "from keras.layers import Dense"
   ]
  },
  {
   "cell_type": "code",
   "execution_count": 55,
   "id": "6edc316c",
   "metadata": {},
   "outputs": [],
   "source": [
    "model = Sequential([\n",
    "    Dense(32, activation=\"relu\", input_shape=(10,)),\n",
    "    Dense(32, activation=\"relu\"),\n",
    "    Dense(1, activation=\"sigmoid\")\n",
    "])"
   ]
  },
  {
   "cell_type": "code",
   "execution_count": 56,
   "id": "422cc142",
   "metadata": {},
   "outputs": [],
   "source": [
    "model.compile(optimizer=\"sgd\",\n",
    "              loss=\"binary_crossentropy\",\n",
    "              metrics=['accuracy']\n",
    ")"
   ]
  },
  {
   "cell_type": "code",
   "execution_count": 57,
   "id": "e32f093f",
   "metadata": {},
   "outputs": [
    {
     "name": "stdout",
     "output_type": "stream",
     "text": [
      "Epoch 1/100\n",
      "32/32 [==============================] - 1s 13ms/step - loss: 0.6856 - accuracy: 0.5440 - val_loss: 0.6802 - val_accuracy: 0.5753\n",
      "Epoch 2/100\n",
      "32/32 [==============================] - 0s 4ms/step - loss: 0.6801 - accuracy: 0.6135 - val_loss: 0.6752 - val_accuracy: 0.6758\n",
      "Epoch 3/100\n",
      "32/32 [==============================] - 0s 4ms/step - loss: 0.6751 - accuracy: 0.6742 - val_loss: 0.6702 - val_accuracy: 0.7489\n",
      "Epoch 4/100\n",
      "32/32 [==============================] - 0s 4ms/step - loss: 0.6700 - accuracy: 0.7241 - val_loss: 0.6650 - val_accuracy: 0.8219\n",
      "Epoch 5/100\n",
      "32/32 [==============================] - 0s 4ms/step - loss: 0.6647 - accuracy: 0.7828 - val_loss: 0.6594 - val_accuracy: 0.8447\n",
      "Epoch 6/100\n",
      "32/32 [==============================] - 0s 4ms/step - loss: 0.6593 - accuracy: 0.7955 - val_loss: 0.6541 - val_accuracy: 0.8584\n",
      "Epoch 7/100\n",
      "32/32 [==============================] - 0s 4ms/step - loss: 0.6541 - accuracy: 0.8102 - val_loss: 0.6488 - val_accuracy: 0.8584\n",
      "Epoch 8/100\n",
      "32/32 [==============================] - 0s 4ms/step - loss: 0.6487 - accuracy: 0.8229 - val_loss: 0.6432 - val_accuracy: 0.8630\n",
      "Epoch 9/100\n",
      "32/32 [==============================] - 0s 4ms/step - loss: 0.6432 - accuracy: 0.8258 - val_loss: 0.6378 - val_accuracy: 0.8630\n",
      "Epoch 10/100\n",
      "32/32 [==============================] - 0s 4ms/step - loss: 0.6377 - accuracy: 0.8337 - val_loss: 0.6323 - val_accuracy: 0.8813\n",
      "Epoch 11/100\n",
      "32/32 [==============================] - 0s 4ms/step - loss: 0.6322 - accuracy: 0.8444 - val_loss: 0.6264 - val_accuracy: 0.8813\n",
      "Epoch 12/100\n",
      "32/32 [==============================] - 0s 4ms/step - loss: 0.6266 - accuracy: 0.8474 - val_loss: 0.6203 - val_accuracy: 0.8904\n",
      "Epoch 13/100\n",
      "32/32 [==============================] - 0s 5ms/step - loss: 0.6208 - accuracy: 0.8474 - val_loss: 0.6141 - val_accuracy: 0.8904\n",
      "Epoch 14/100\n",
      "32/32 [==============================] - 0s 5ms/step - loss: 0.6144 - accuracy: 0.8532 - val_loss: 0.6076 - val_accuracy: 0.8858\n",
      "Epoch 15/100\n",
      "32/32 [==============================] - 0s 5ms/step - loss: 0.6079 - accuracy: 0.8503 - val_loss: 0.6009 - val_accuracy: 0.8858\n",
      "Epoch 16/100\n",
      "32/32 [==============================] - 0s 4ms/step - loss: 0.6013 - accuracy: 0.8571 - val_loss: 0.5937 - val_accuracy: 0.8858\n",
      "Epoch 17/100\n",
      "32/32 [==============================] - 0s 4ms/step - loss: 0.5942 - accuracy: 0.8591 - val_loss: 0.5859 - val_accuracy: 0.8904\n",
      "Epoch 18/100\n",
      "32/32 [==============================] - 0s 4ms/step - loss: 0.5868 - accuracy: 0.8591 - val_loss: 0.5780 - val_accuracy: 0.8904\n",
      "Epoch 19/100\n",
      "32/32 [==============================] - 0s 5ms/step - loss: 0.5791 - accuracy: 0.8562 - val_loss: 0.5701 - val_accuracy: 0.8858\n",
      "Epoch 20/100\n",
      "32/32 [==============================] - 0s 6ms/step - loss: 0.5710 - accuracy: 0.8601 - val_loss: 0.5616 - val_accuracy: 0.8813\n",
      "Epoch 21/100\n",
      "32/32 [==============================] - 0s 5ms/step - loss: 0.5627 - accuracy: 0.8620 - val_loss: 0.5523 - val_accuracy: 0.8858\n",
      "Epoch 22/100\n",
      "32/32 [==============================] - 0s 6ms/step - loss: 0.5538 - accuracy: 0.8659 - val_loss: 0.5436 - val_accuracy: 0.8904\n",
      "Epoch 23/100\n",
      "32/32 [==============================] - 0s 5ms/step - loss: 0.5452 - accuracy: 0.8640 - val_loss: 0.5339 - val_accuracy: 0.8950\n",
      "Epoch 24/100\n",
      "32/32 [==============================] - 0s 5ms/step - loss: 0.5358 - accuracy: 0.8640 - val_loss: 0.5244 - val_accuracy: 0.8904\n",
      "Epoch 25/100\n",
      "32/32 [==============================] - 0s 5ms/step - loss: 0.5266 - accuracy: 0.8699 - val_loss: 0.5138 - val_accuracy: 0.8995\n",
      "Epoch 26/100\n",
      "32/32 [==============================] - 0s 5ms/step - loss: 0.5172 - accuracy: 0.8699 - val_loss: 0.5039 - val_accuracy: 0.8995\n",
      "Epoch 27/100\n",
      "32/32 [==============================] - 0s 5ms/step - loss: 0.5074 - accuracy: 0.8669 - val_loss: 0.4933 - val_accuracy: 0.8995\n",
      "Epoch 28/100\n",
      "32/32 [==============================] - 0s 5ms/step - loss: 0.4978 - accuracy: 0.8718 - val_loss: 0.4823 - val_accuracy: 0.8995\n",
      "Epoch 29/100\n",
      "32/32 [==============================] - 0s 5ms/step - loss: 0.4882 - accuracy: 0.8748 - val_loss: 0.4726 - val_accuracy: 0.8995\n",
      "Epoch 30/100\n",
      "32/32 [==============================] - 0s 5ms/step - loss: 0.4785 - accuracy: 0.8748 - val_loss: 0.4626 - val_accuracy: 0.8904\n",
      "Epoch 31/100\n",
      "32/32 [==============================] - 0s 4ms/step - loss: 0.4689 - accuracy: 0.8748 - val_loss: 0.4522 - val_accuracy: 0.8950\n",
      "Epoch 32/100\n",
      "32/32 [==============================] - 0s 4ms/step - loss: 0.4594 - accuracy: 0.8728 - val_loss: 0.4407 - val_accuracy: 0.9041\n",
      "Epoch 33/100\n",
      "32/32 [==============================] - 0s 5ms/step - loss: 0.4501 - accuracy: 0.8748 - val_loss: 0.4306 - val_accuracy: 0.9041\n",
      "Epoch 34/100\n",
      "32/32 [==============================] - 0s 4ms/step - loss: 0.4414 - accuracy: 0.8767 - val_loss: 0.4213 - val_accuracy: 0.8995\n",
      "Epoch 35/100\n",
      "32/32 [==============================] - 0s 4ms/step - loss: 0.4322 - accuracy: 0.8777 - val_loss: 0.4127 - val_accuracy: 0.8995\n",
      "Epoch 36/100\n",
      "32/32 [==============================] - 0s 4ms/step - loss: 0.4239 - accuracy: 0.8738 - val_loss: 0.4029 - val_accuracy: 0.8995\n",
      "Epoch 37/100\n",
      "32/32 [==============================] - 0s 4ms/step - loss: 0.4153 - accuracy: 0.8748 - val_loss: 0.3929 - val_accuracy: 0.9087\n",
      "Epoch 38/100\n",
      "32/32 [==============================] - 0s 4ms/step - loss: 0.4078 - accuracy: 0.8767 - val_loss: 0.3843 - val_accuracy: 0.9087\n",
      "Epoch 39/100\n",
      "32/32 [==============================] - 0s 4ms/step - loss: 0.3999 - accuracy: 0.8757 - val_loss: 0.3787 - val_accuracy: 0.8813\n",
      "Epoch 40/100\n",
      "32/32 [==============================] - 0s 4ms/step - loss: 0.3927 - accuracy: 0.8757 - val_loss: 0.3713 - val_accuracy: 0.8858\n",
      "Epoch 41/100\n",
      "32/32 [==============================] - 0s 4ms/step - loss: 0.3861 - accuracy: 0.8767 - val_loss: 0.3613 - val_accuracy: 0.9041\n",
      "Epoch 42/100\n",
      "32/32 [==============================] - 0s 4ms/step - loss: 0.3795 - accuracy: 0.8777 - val_loss: 0.3543 - val_accuracy: 0.9041\n",
      "Epoch 43/100\n",
      "32/32 [==============================] - 0s 4ms/step - loss: 0.3733 - accuracy: 0.8806 - val_loss: 0.3480 - val_accuracy: 0.8995\n",
      "Epoch 44/100\n",
      "32/32 [==============================] - 0s 5ms/step - loss: 0.3675 - accuracy: 0.8787 - val_loss: 0.3404 - val_accuracy: 0.9132\n",
      "Epoch 45/100\n",
      "32/32 [==============================] - 0s 5ms/step - loss: 0.3623 - accuracy: 0.8816 - val_loss: 0.3348 - val_accuracy: 0.9041\n",
      "Epoch 46/100\n",
      "32/32 [==============================] - 0s 5ms/step - loss: 0.3579 - accuracy: 0.8787 - val_loss: 0.3294 - val_accuracy: 0.9041\n",
      "Epoch 47/100\n",
      "32/32 [==============================] - 0s 5ms/step - loss: 0.3528 - accuracy: 0.8806 - val_loss: 0.3252 - val_accuracy: 0.9041\n",
      "Epoch 48/100\n",
      "32/32 [==============================] - 0s 4ms/step - loss: 0.3478 - accuracy: 0.8806 - val_loss: 0.3194 - val_accuracy: 0.9087\n",
      "Epoch 49/100\n",
      "32/32 [==============================] - 0s 4ms/step - loss: 0.3442 - accuracy: 0.8767 - val_loss: 0.3153 - val_accuracy: 0.9041\n",
      "Epoch 50/100\n",
      "32/32 [==============================] - 0s 5ms/step - loss: 0.3400 - accuracy: 0.8748 - val_loss: 0.3105 - val_accuracy: 0.9087\n",
      "Epoch 51/100\n",
      "32/32 [==============================] - 0s 4ms/step - loss: 0.3364 - accuracy: 0.8796 - val_loss: 0.3073 - val_accuracy: 0.9087\n",
      "Epoch 52/100\n",
      "32/32 [==============================] - 0s 4ms/step - loss: 0.3326 - accuracy: 0.8806 - val_loss: 0.3043 - val_accuracy: 0.9087\n",
      "Epoch 53/100\n",
      "32/32 [==============================] - 0s 5ms/step - loss: 0.3297 - accuracy: 0.8806 - val_loss: 0.3007 - val_accuracy: 0.9087\n",
      "Epoch 54/100\n",
      "32/32 [==============================] - 0s 5ms/step - loss: 0.3265 - accuracy: 0.8836 - val_loss: 0.2955 - val_accuracy: 0.9087\n",
      "Epoch 55/100\n",
      "32/32 [==============================] - 0s 4ms/step - loss: 0.3234 - accuracy: 0.8806 - val_loss: 0.2924 - val_accuracy: 0.9132\n",
      "Epoch 56/100\n",
      "32/32 [==============================] - 0s 4ms/step - loss: 0.3206 - accuracy: 0.8816 - val_loss: 0.2912 - val_accuracy: 0.9087\n",
      "Epoch 57/100\n",
      "32/32 [==============================] - 0s 5ms/step - loss: 0.3183 - accuracy: 0.8787 - val_loss: 0.2864 - val_accuracy: 0.9178\n",
      "Epoch 58/100\n",
      "32/32 [==============================] - 0s 4ms/step - loss: 0.3156 - accuracy: 0.8826 - val_loss: 0.2861 - val_accuracy: 0.9087\n"
     ]
    },
    {
     "name": "stdout",
     "output_type": "stream",
     "text": [
      "Epoch 59/100\n",
      "32/32 [==============================] - 0s 4ms/step - loss: 0.3129 - accuracy: 0.8826 - val_loss: 0.2859 - val_accuracy: 0.8995\n",
      "Epoch 60/100\n",
      "32/32 [==============================] - 0s 4ms/step - loss: 0.3113 - accuracy: 0.8836 - val_loss: 0.2796 - val_accuracy: 0.9132\n",
      "Epoch 61/100\n",
      "32/32 [==============================] - 0s 5ms/step - loss: 0.3086 - accuracy: 0.8855 - val_loss: 0.2773 - val_accuracy: 0.9132\n",
      "Epoch 62/100\n",
      "32/32 [==============================] - 0s 4ms/step - loss: 0.3070 - accuracy: 0.8845 - val_loss: 0.2749 - val_accuracy: 0.9132\n",
      "Epoch 63/100\n",
      "32/32 [==============================] - 0s 4ms/step - loss: 0.3048 - accuracy: 0.8806 - val_loss: 0.2747 - val_accuracy: 0.9132\n",
      "Epoch 64/100\n",
      "32/32 [==============================] - 0s 4ms/step - loss: 0.3029 - accuracy: 0.8806 - val_loss: 0.2744 - val_accuracy: 0.9087\n",
      "Epoch 65/100\n",
      "32/32 [==============================] - 0s 4ms/step - loss: 0.3012 - accuracy: 0.8836 - val_loss: 0.2716 - val_accuracy: 0.9132\n",
      "Epoch 66/100\n",
      "32/32 [==============================] - 0s 4ms/step - loss: 0.2991 - accuracy: 0.8855 - val_loss: 0.2686 - val_accuracy: 0.9132\n",
      "Epoch 67/100\n",
      "32/32 [==============================] - 0s 4ms/step - loss: 0.2968 - accuracy: 0.8875 - val_loss: 0.2667 - val_accuracy: 0.9132\n",
      "Epoch 68/100\n",
      "32/32 [==============================] - 0s 4ms/step - loss: 0.2944 - accuracy: 0.8875 - val_loss: 0.2631 - val_accuracy: 0.9178\n",
      "Epoch 69/100\n",
      "32/32 [==============================] - 0s 4ms/step - loss: 0.2932 - accuracy: 0.8894 - val_loss: 0.2630 - val_accuracy: 0.9178\n",
      "Epoch 70/100\n",
      "32/32 [==============================] - 0s 4ms/step - loss: 0.2919 - accuracy: 0.8904 - val_loss: 0.2617 - val_accuracy: 0.9132\n",
      "Epoch 71/100\n",
      "32/32 [==============================] - 0s 4ms/step - loss: 0.2903 - accuracy: 0.8885 - val_loss: 0.2596 - val_accuracy: 0.9178\n",
      "Epoch 72/100\n",
      "32/32 [==============================] - 0s 4ms/step - loss: 0.2887 - accuracy: 0.8894 - val_loss: 0.2580 - val_accuracy: 0.9178\n",
      "Epoch 73/100\n",
      "32/32 [==============================] - 0s 5ms/step - loss: 0.2877 - accuracy: 0.8904 - val_loss: 0.2575 - val_accuracy: 0.9178\n",
      "Epoch 74/100\n",
      "32/32 [==============================] - 0s 4ms/step - loss: 0.2860 - accuracy: 0.8894 - val_loss: 0.2590 - val_accuracy: 0.9132\n",
      "Epoch 75/100\n",
      "32/32 [==============================] - 0s 4ms/step - loss: 0.2845 - accuracy: 0.8914 - val_loss: 0.2544 - val_accuracy: 0.9178\n",
      "Epoch 76/100\n",
      "32/32 [==============================] - 0s 4ms/step - loss: 0.2843 - accuracy: 0.8914 - val_loss: 0.2533 - val_accuracy: 0.9178\n",
      "Epoch 77/100\n",
      "32/32 [==============================] - 0s 5ms/step - loss: 0.2827 - accuracy: 0.8933 - val_loss: 0.2524 - val_accuracy: 0.9178\n",
      "Epoch 78/100\n",
      "32/32 [==============================] - 0s 4ms/step - loss: 0.2821 - accuracy: 0.8894 - val_loss: 0.2537 - val_accuracy: 0.9178\n",
      "Epoch 79/100\n",
      "32/32 [==============================] - 0s 4ms/step - loss: 0.2806 - accuracy: 0.8933 - val_loss: 0.2506 - val_accuracy: 0.9178\n",
      "Epoch 80/100\n",
      "32/32 [==============================] - 0s 4ms/step - loss: 0.2805 - accuracy: 0.8953 - val_loss: 0.2508 - val_accuracy: 0.9178\n",
      "Epoch 81/100\n",
      "32/32 [==============================] - 0s 4ms/step - loss: 0.2787 - accuracy: 0.8943 - val_loss: 0.2533 - val_accuracy: 0.9087\n",
      "Epoch 82/100\n",
      "32/32 [==============================] - 0s 4ms/step - loss: 0.2771 - accuracy: 0.8953 - val_loss: 0.2544 - val_accuracy: 0.9041\n",
      "Epoch 83/100\n",
      "32/32 [==============================] - 0s 5ms/step - loss: 0.2778 - accuracy: 0.8953 - val_loss: 0.2499 - val_accuracy: 0.9132\n",
      "Epoch 84/100\n",
      "32/32 [==============================] - 0s 5ms/step - loss: 0.2768 - accuracy: 0.8953 - val_loss: 0.2468 - val_accuracy: 0.9132\n",
      "Epoch 85/100\n",
      "32/32 [==============================] - 0s 4ms/step - loss: 0.2759 - accuracy: 0.8982 - val_loss: 0.2464 - val_accuracy: 0.9132\n",
      "Epoch 86/100\n",
      "32/32 [==============================] - 0s 5ms/step - loss: 0.2750 - accuracy: 0.8953 - val_loss: 0.2460 - val_accuracy: 0.9178\n",
      "Epoch 87/100\n",
      "32/32 [==============================] - 0s 4ms/step - loss: 0.2741 - accuracy: 0.8943 - val_loss: 0.2463 - val_accuracy: 0.9132\n",
      "Epoch 88/100\n",
      "32/32 [==============================] - 0s 4ms/step - loss: 0.2732 - accuracy: 0.8963 - val_loss: 0.2470 - val_accuracy: 0.9132\n",
      "Epoch 89/100\n",
      "32/32 [==============================] - 0s 5ms/step - loss: 0.2733 - accuracy: 0.8963 - val_loss: 0.2459 - val_accuracy: 0.9132\n",
      "Epoch 90/100\n",
      "32/32 [==============================] - 0s 5ms/step - loss: 0.2716 - accuracy: 0.8963 - val_loss: 0.2446 - val_accuracy: 0.9087\n",
      "Epoch 91/100\n",
      "32/32 [==============================] - 0s 5ms/step - loss: 0.2709 - accuracy: 0.8963 - val_loss: 0.2449 - val_accuracy: 0.9087\n",
      "Epoch 92/100\n",
      "32/32 [==============================] - 0s 5ms/step - loss: 0.2700 - accuracy: 0.8953 - val_loss: 0.2426 - val_accuracy: 0.9178\n",
      "Epoch 93/100\n",
      "32/32 [==============================] - 0s 5ms/step - loss: 0.2698 - accuracy: 0.8982 - val_loss: 0.2427 - val_accuracy: 0.9087\n",
      "Epoch 94/100\n",
      "32/32 [==============================] - 0s 5ms/step - loss: 0.2696 - accuracy: 0.8953 - val_loss: 0.2408 - val_accuracy: 0.9132\n",
      "Epoch 95/100\n",
      "32/32 [==============================] - 0s 5ms/step - loss: 0.2687 - accuracy: 0.8982 - val_loss: 0.2408 - val_accuracy: 0.9132\n",
      "Epoch 96/100\n",
      "32/32 [==============================] - 0s 5ms/step - loss: 0.2676 - accuracy: 0.8973 - val_loss: 0.2398 - val_accuracy: 0.9087\n",
      "Epoch 97/100\n",
      "32/32 [==============================] - 0s 5ms/step - loss: 0.2680 - accuracy: 0.8982 - val_loss: 0.2397 - val_accuracy: 0.9132\n",
      "Epoch 98/100\n",
      "32/32 [==============================] - 0s 4ms/step - loss: 0.2667 - accuracy: 0.8963 - val_loss: 0.2425 - val_accuracy: 0.8995\n",
      "Epoch 99/100\n",
      "32/32 [==============================] - 0s 4ms/step - loss: 0.2667 - accuracy: 0.8973 - val_loss: 0.2417 - val_accuracy: 0.9041\n",
      "Epoch 100/100\n",
      "32/32 [==============================] - 0s 5ms/step - loss: 0.2648 - accuracy: 0.8973 - val_loss: 0.2424 - val_accuracy: 0.8995\n"
     ]
    }
   ],
   "source": [
    "hist = model.fit(X_train, y_train,\n",
    "         batch_size=32,epochs=100,\n",
    "         validation_data=(X_val, y_val))"
   ]
  },
  {
   "cell_type": "code",
   "execution_count": 58,
   "id": "114818c4",
   "metadata": {},
   "outputs": [
    {
     "name": "stdout",
     "output_type": "stream",
     "text": [
      "7/7 [==============================] - 0s 3ms/step - loss: 0.3235 - accuracy: 0.8447\n"
     ]
    },
    {
     "data": {
      "text/plain": [
       "[0.3234640061855316, 0.844748854637146]"
      ]
     },
     "execution_count": 58,
     "metadata": {},
     "output_type": "execute_result"
    }
   ],
   "source": [
    "model.evaluate(X_test, y_test)"
   ]
  },
  {
   "cell_type": "code",
   "execution_count": 59,
   "id": "c1a725f8",
   "metadata": {},
   "outputs": [],
   "source": [
    "import matplotlib.pyplot as plt"
   ]
  },
  {
   "cell_type": "code",
   "execution_count": 61,
   "id": "65b1582d",
   "metadata": {},
   "outputs": [
    {
     "data": {
      "image/png": "[encoded data removed]",
      "text/plain": [
       "<Figure size 432x288 with 1 Axes>"
      ]
     },
     "metadata": {
      "needs_background": "light"
     },
     "output_type": "display_data"
    }
   ],
   "source": [
    "plt.plot(hist.history['loss'])\n",
    "plt.plot(hist.history['val_loss'])\n",
    "plt.title('Model loss')\n",
    "plt.ylabel('Loss')\n",
    "plt.xlabel('Epoch')\n",
    "plt.legend(['Train', 'Val'], loc='upper right')\n",
    "plt.show()"
   ]
  },
  {
   "cell_type": "code",
   "execution_count": 64,
   "id": "09946da7",
   "metadata": {},
   "outputs": [
    {
     "data": {
      "image/png": "[encoded data removed]",
      "text/plain": [
       "<Figure size 432x288 with 1 Axes>"
      ]
     },
     "metadata": {
      "needs_background": "light"
     },
     "output_type": "display_data"
    }
   ],
   "source": [
    "plt.plot(hist.history['accuracy'])\n",
    "plt.plot(hist.history['val_accuracy'])\n",
    "plt.title('Model accuracy')\n",
    "plt.ylabel('Accuracy')\n",
    "plt.xlabel('Epoch')\n",
    "plt.legend(['Train', 'Val'], loc='lower right')\n",
    "plt.show()"
   ]
  },
  {
   "cell_type": "code",
   "execution_count": null,
   "id": "cad06520",
   "metadata": {},
   "outputs": [],
   "source": []
  },
  {
   "cell_type": "code",
   "execution_count": null,
   "id": "2b3ed7be",
   "metadata": {},
   "outputs": [],
   "source": []
  },
  {
   "cell_type": "code",
   "execution_count": null,
   "id": "a695ac53",
   "metadata": {},
   "outputs": [],
   "source": []
  },
  {
   "cell_type": "code",
   "execution_count": null,
   "id": "e783551f",
   "metadata": {},
   "outputs": [],
   "source": []
  },
  {
   "cell_type": "code",
   "execution_count": null,
   "id": "7d018444",
   "metadata": {},
   "outputs": [],
   "source": []
  }
 ],
 "metadata": {
  "kernelspec": {
   "display_name": "Python 3",
   "language": "python",
   "name": "python3"
  },
  "language_info": {
   "codemirror_mode": {
    "name": "ipython",
    "version": 3
   },
   "file_extension": ".py",
   "mimetype": "text/x-python",
   "name": "python",
   "nbconvert_exporter": "python",
   "pygments_lexer": "ipython3",
   "version": "3.8.8"
  }
 },
 "nbformat": 4,
 "nbformat_minor": 5
}
